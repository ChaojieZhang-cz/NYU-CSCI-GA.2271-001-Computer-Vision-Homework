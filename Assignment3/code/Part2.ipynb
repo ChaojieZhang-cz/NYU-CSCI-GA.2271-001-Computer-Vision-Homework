{
 "cells": [
  {
   "cell_type": "code",
   "execution_count": 1,
   "metadata": {},
   "outputs": [],
   "source": [
    "import numpy as np\n",
    "from scipy import linalg"
   ]
  },
  {
   "cell_type": "markdown",
   "metadata": {},
   "source": [
    "## Image Points and World Points"
   ]
  },
  {
   "cell_type": "code",
   "execution_count": 2,
   "metadata": {},
   "outputs": [],
   "source": [
    "image = np.loadtxt('./assignment3/image.txt')\n",
    "world = np.loadtxt('./assignment3/world.txt')"
   ]
  },
  {
   "cell_type": "code",
   "execution_count": 3,
   "metadata": {},
   "outputs": [],
   "source": [
    "image_vector = np.concatenate((image,np.ones([1,image.shape[1]])),axis=0)\n",
    "world_vector = np.concatenate((world,np.ones([1,world.shape[1]])),axis=0)"
   ]
  },
  {
   "cell_type": "code",
   "execution_count": 4,
   "metadata": {},
   "outputs": [
    {
     "data": {
      "text/plain": [
       "array([[ 5.11770701,  5.5236545 ,  7.16310171,  5.22216628,  5.60479614,\n",
       "        13.59494885,  8.73452189,  6.22433952,  9.74763886,  5.09031079],\n",
       "       [ 4.76538441,  3.87032917,  7.35942066,  4.4279585 ,  4.67483648,\n",
       "        10.05215495,  5.56420531,  3.90821885,  6.90423723,  4.5508513 ],\n",
       "       [ 1.        ,  1.        ,  1.        ,  1.        ,  1.        ,\n",
       "         1.        ,  1.        ,  1.        ,  1.        ,  1.        ]])"
      ]
     },
     "execution_count": 4,
     "metadata": {},
     "output_type": "execute_result"
    }
   ],
   "source": [
    "image_vector"
   ]
  },
  {
   "cell_type": "code",
   "execution_count": 5,
   "metadata": {},
   "outputs": [
    {
     "data": {
      "text/plain": [
       "array([[0.8518447 , 0.55793851, 0.81620571, 0.70368367, 0.71335444,\n",
       "        0.1721997 , 0.04904683, 0.28614965, 0.13098247, 0.84767647],\n",
       "       [0.75947939, 0.01423302, 0.97709235, 0.52206092, 0.2280389 ,\n",
       "        0.96882014, 0.75533857, 0.25120055, 0.94081954, 0.20927164],\n",
       "       [0.94975928, 0.59617708, 0.22190808, 0.93289706, 0.4496421 ,\n",
       "        0.3557161 , 0.89481276, 0.93273619, 0.70185317, 0.45509169],\n",
       "       [1.        , 1.        , 1.        , 1.        , 1.        ,\n",
       "        1.        , 1.        , 1.        , 1.        , 1.        ]])"
      ]
     },
     "execution_count": 5,
     "metadata": {},
     "output_type": "execute_result"
    }
   ],
   "source": [
    "world_vector"
   ]
  },
  {
   "cell_type": "markdown",
   "metadata": {},
   "source": [
    "## Matrix A"
   ]
  },
  {
   "cell_type": "code",
   "execution_count": 6,
   "metadata": {},
   "outputs": [],
   "source": [
    "A = np.zeros([2*image_vector.shape[1],12])\n",
    "for i in range(image_vector.shape[1]):\n",
    "    A[i][4:8] = -image_vector[2][i] * world_vector[:,i]\n",
    "    A[i][8:12] = image_vector[1][i] * world_vector[:,i]\n",
    "    A[10+i][:4] = image_vector[2][i]*world_vector[:,i]\n",
    "    A[10+i][8:12] = -image_vector[0][i]*world_vector[:,i]\n"
   ]
  },
  {
   "cell_type": "markdown",
   "metadata": {},
   "source": [
    "## Matrix P"
   ]
  },
  {
   "cell_type": "code",
   "execution_count": 7,
   "metadata": {},
   "outputs": [],
   "source": [
    "U,D,V = np.linalg.svd(A)"
   ]
  },
  {
   "cell_type": "code",
   "execution_count": 8,
   "metadata": {},
   "outputs": [
    {
     "name": "stdout",
     "output_type": "stream",
     "text": [
      "[[ 1.27000127e-01  2.54000254e-01  3.81000381e-01  5.08000508e-01]\n",
      " [ 5.08000508e-01  3.81000381e-01  2.54000254e-01  1.27000127e-01]\n",
      " [ 1.27000127e-01 -2.77555756e-17  1.27000127e-01 -8.32667268e-17]]\n"
     ]
    }
   ],
   "source": [
    "P = V[-1:].reshape(3,4)\n",
    "print(P)"
   ]
  },
  {
   "cell_type": "markdown",
   "metadata": {},
   "source": [
    "## Reprojection Points and Image Points"
   ]
  },
  {
   "cell_type": "code",
   "execution_count": 9,
   "metadata": {},
   "outputs": [],
   "source": [
    "re_projection = np.dot(P,world_vector)\n",
    "re_projection = re_projection/re_projection[-1]"
   ]
  },
  {
   "cell_type": "code",
   "execution_count": 10,
   "metadata": {},
   "outputs": [
    {
     "data": {
      "text/plain": [
       "array([[ 5.118,  5.524,  7.163,  5.222,  5.605, 13.595,  8.735,  6.224,\n",
       "         9.748,  5.09 ],\n",
       "       [ 4.765,  3.87 ,  7.359,  4.428,  4.675, 10.052,  5.564,  3.908,\n",
       "         6.904,  4.551],\n",
       "       [ 1.   ,  1.   ,  1.   ,  1.   ,  1.   ,  1.   ,  1.   ,  1.   ,\n",
       "         1.   ,  1.   ]])"
      ]
     },
     "execution_count": 10,
     "metadata": {},
     "output_type": "execute_result"
    }
   ],
   "source": [
    "np.round_(re_projection,3)"
   ]
  },
  {
   "cell_type": "code",
   "execution_count": 11,
   "metadata": {},
   "outputs": [
    {
     "data": {
      "text/plain": [
       "array([[ 5.118,  5.524,  7.163,  5.222,  5.605, 13.595,  8.735,  6.224,\n",
       "         9.748,  5.09 ],\n",
       "       [ 4.765,  3.87 ,  7.359,  4.428,  4.675, 10.052,  5.564,  3.908,\n",
       "         6.904,  4.551],\n",
       "       [ 1.   ,  1.   ,  1.   ,  1.   ,  1.   ,  1.   ,  1.   ,  1.   ,\n",
       "         1.   ,  1.   ]])"
      ]
     },
     "execution_count": 11,
     "metadata": {},
     "output_type": "execute_result"
    }
   ],
   "source": [
    "np.round_(image_vector,3)"
   ]
  },
  {
   "cell_type": "markdown",
   "metadata": {},
   "source": [
    "## Compute C using SVD"
   ]
  },
  {
   "cell_type": "code",
   "execution_count": 12,
   "metadata": {},
   "outputs": [
    {
     "data": {
      "text/plain": [
       "array([ 1., -1., -1.])"
      ]
     },
     "execution_count": 12,
     "metadata": {},
     "output_type": "execute_result"
    }
   ],
   "source": [
    "U, s, V = np.linalg.svd(P)\n",
    "C = V[-1]\n",
    "C = C[:-1]/C[-1]\n",
    "C"
   ]
  },
  {
   "cell_type": "markdown",
   "metadata": {},
   "source": [
    "## Compute C using RQ decomposition"
   ]
  },
  {
   "cell_type": "code",
   "execution_count": 13,
   "metadata": {},
   "outputs": [
    {
     "data": {
      "text/plain": [
       "array([ 1., -1., -1.])"
      ]
     },
     "execution_count": 13,
     "metadata": {},
     "output_type": "execute_result"
    }
   ],
   "source": [
    "r,q = linalg.rq(P, mode='economic')\n",
    "R = (q.T)[:-1].T\n",
    "t = (q.T)[-1].T\n",
    "C_ = np.linalg.solve(-R,t)\n",
    "C_"
   ]
  }
 ],
 "metadata": {
  "kernelspec": {
   "display_name": "Python 3",
   "language": "python",
   "name": "python3"
  },
  "language_info": {
   "codemirror_mode": {
    "name": "ipython",
    "version": 3
   },
   "file_extension": ".py",
   "mimetype": "text/x-python",
   "name": "python",
   "nbconvert_exporter": "python",
   "pygments_lexer": "ipython3",
   "version": "3.6.6"
  }
 },
 "nbformat": 4,
 "nbformat_minor": 4
}
